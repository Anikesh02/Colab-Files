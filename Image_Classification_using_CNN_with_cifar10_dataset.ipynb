{
  "nbformat": 4,
  "nbformat_minor": 0,
  "metadata": {
    "colab": {
      "provenance": [],
      "authorship_tag": "ABX9TyNf9ymj0DOXDIgZb2SKehiJ",
      "include_colab_link": true
    },
    "kernelspec": {
      "name": "python3",
      "display_name": "Python 3"
    },
    "language_info": {
      "name": "python"
    }
  },
  "cells": [
    {
      "cell_type": "markdown",
      "metadata": {
        "id": "view-in-github",
        "colab_type": "text"
      },
      "source": [
        "<a href=\"https://colab.research.google.com/github/Anikesh02/Colab-Files/blob/main/Image_Classification_using_CNN_with_cifar10_dataset.ipynb\" target=\"_parent\"><img src=\"https://colab.research.google.com/assets/colab-badge.svg\" alt=\"Open In Colab\"/></a>"
      ]
    },
    {
      "cell_type": "code",
      "execution_count": 3,
      "metadata": {
        "id": "gyus2jyAo64o"
      },
      "outputs": [],
      "source": [
        "import tensorflow as tf\n",
        "from tensorflow.keras import datasets, layers, models\n",
        "import matplotlib.pyplot as plt\n",
        "import numpy as np"
      ]
    },
    {
      "cell_type": "code",
      "source": [
        "(X_train, y_train), (X_test, y_test) = datasets.cifar10.load_data()\n",
        "X_train.shape"
      ],
      "metadata": {
        "colab": {
          "base_uri": "https://localhost:8080/"
        },
        "id": "pBzHRzVkpXcY",
        "outputId": "0e132be7-c16f-4d71-dc38-96df038b9ef9"
      },
      "execution_count": 4,
      "outputs": [
        {
          "output_type": "stream",
          "name": "stdout",
          "text": [
            "Downloading data from https://www.cs.toronto.edu/~kriz/cifar-10-python.tar.gz\n",
            "170498071/170498071 [==============================] - 3s 0us/step\n"
          ]
        },
        {
          "output_type": "execute_result",
          "data": {
            "text/plain": [
              "(50000, 32, 32, 3)"
            ]
          },
          "metadata": {},
          "execution_count": 4
        }
      ]
    },
    {
      "cell_type": "code",
      "source": [
        "X_test.shape"
      ],
      "metadata": {
        "colab": {
          "base_uri": "https://localhost:8080/"
        },
        "id": "45eBIBXXp9Bx",
        "outputId": "cd44b2f7-4936-4de6-facd-50fa34ff3496"
      },
      "execution_count": 5,
      "outputs": [
        {
          "output_type": "execute_result",
          "data": {
            "text/plain": [
              "(10000, 32, 32, 3)"
            ]
          },
          "metadata": {},
          "execution_count": 5
        }
      ]
    },
    {
      "cell_type": "code",
      "source": [
        "y_train = y_train.reshape(-1,)\n",
        "y_train[:5]"
      ],
      "metadata": {
        "colab": {
          "base_uri": "https://localhost:8080/"
        },
        "id": "BVC4e7MI1SqG",
        "outputId": "8fc214c1-8d43-406d-8ee6-ee0806d4859a"
      },
      "execution_count": 19,
      "outputs": [
        {
          "output_type": "execute_result",
          "data": {
            "text/plain": [
              "array([6, 9, 9, 4, 1], dtype=uint8)"
            ]
          },
          "metadata": {},
          "execution_count": 19
        }
      ]
    },
    {
      "cell_type": "code",
      "source": [
        "classes = [\"airplane\", \"automobile\", \"bird\", \"cat\", \"deer\", \"dog\", \"frog\", \"horse\", \"ship\", \"truck\"]"
      ],
      "metadata": {
        "id": "CBJ2NtOGrGNx"
      },
      "execution_count": 20,
      "outputs": []
    },
    {
      "cell_type": "code",
      "source": [
        "classes[9]"
      ],
      "metadata": {
        "colab": {
          "base_uri": "https://localhost:8080/",
          "height": 36
        },
        "id": "CKBFVvOC1ac3",
        "outputId": "6592cf58-03ab-421d-b7ec-10cb290430ae"
      },
      "execution_count": 21,
      "outputs": [
        {
          "output_type": "execute_result",
          "data": {
            "text/plain": [
              "'truck'"
            ],
            "application/vnd.google.colaboratory.intrinsic+json": {
              "type": "string"
            }
          },
          "metadata": {},
          "execution_count": 21
        }
      ]
    },
    {
      "cell_type": "code",
      "source": [
        "def plot_sample(X, y, index):\n",
        "  plt.figure(figsize = (15,2))\n",
        "  plt.imshow(X[index])\n",
        "  plt.xlabel(classes[y[index]])"
      ],
      "metadata": {
        "id": "Uswv-8GZqDT7"
      },
      "execution_count": 11,
      "outputs": []
    },
    {
      "cell_type": "code",
      "source": [
        "plot_sample(X_train, y_train, 0)"
      ],
      "metadata": {
        "colab": {
          "base_uri": "https://localhost:8080/",
          "height": 237
        },
        "id": "igvttA7L1GAQ",
        "outputId": "275ddfd3-5263-4b0b-d837-626af0b3043b"
      },
      "execution_count": 23,
      "outputs": [
        {
          "output_type": "display_data",
          "data": {
            "text/plain": [
              "<Figure size 1500x200 with 1 Axes>"
            ],
            "image/png": "[encoded data removed]"
          },
          "metadata": {}
        }
      ]
    },
    {
      "cell_type": "code",
      "source": [
        "plot_sample(X_train, y_train, 5)"
      ],
      "metadata": {
        "colab": {
          "base_uri": "https://localhost:8080/",
          "height": 237
        },
        "id": "-IsWYj_117Vr",
        "outputId": "1c03cb45-bc6b-4b40-a56f-f24aacb5ed81"
      },
      "execution_count": 24,
      "outputs": [
        {
          "output_type": "display_data",
          "data": {
            "text/plain": [
              "<Figure size 1500x200 with 1 Axes>"
            ],
            "image/png": "[encoded data removed]"
          },
          "metadata": {}
        }
      ]
    },
    {
      "cell_type": "code",
      "source": [
        "X_train = X_train / 255\n",
        "X_test = X_test / 255"
      ],
      "metadata": {
        "id": "yQV9VqR32XuE"
      },
      "execution_count": 27,
      "outputs": []
    },
    {
      "cell_type": "code",
      "source": [
        "ann = models.Sequential([\n",
        "        layers.Flatten(input_shape=(32,32,3)),\n",
        "        layers.Dense(3000, activation='relu'),\n",
        "        layers.Dense(1000, activation='relu'),\n",
        "        layers.Dense(10, activation='sigmoid')\n",
        "    ])\n",
        "\n",
        "ann.compile(optimizer='SGD',\n",
        "              loss='sparse_categorical_crossentropy',\n",
        "              metrics=['accuracy'])\n",
        "\n",
        "ann.fit(X_train, y_train, epochs=5)"
      ],
      "metadata": {
        "colab": {
          "base_uri": "https://localhost:8080/"
        },
        "id": "1UjY8geJ6VWx",
        "outputId": "7d3794ee-9dbd-4eb1-c0dd-4939c38111fe"
      },
      "execution_count": 28,
      "outputs": [
        {
          "output_type": "stream",
          "name": "stdout",
          "text": [
            "Epoch 1/5\n",
            "1563/1563 [==============================] - 173s 110ms/step - loss: 1.8151 - accuracy: 0.3529\n",
            "Epoch 2/5\n",
            "1563/1563 [==============================] - 163s 104ms/step - loss: 1.6242 - accuracy: 0.4292\n",
            "Epoch 3/5\n",
            "1563/1563 [==============================] - 163s 104ms/step - loss: 1.5426 - accuracy: 0.4578\n",
            "Epoch 4/5\n",
            "1563/1563 [==============================] - 165s 105ms/step - loss: 1.4803 - accuracy: 0.4781\n",
            "Epoch 5/5\n",
            "1563/1563 [==============================] - 171s 109ms/step - loss: 1.4322 - accuracy: 0.4981\n"
          ]
        },
        {
          "output_type": "execute_result",
          "data": {
            "text/plain": [
              "<keras.src.callbacks.History at 0x79ca59a89e70>"
            ]
          },
          "metadata": {},
          "execution_count": 28
        }
      ]
    },
    {
      "cell_type": "code",
      "source": [
        "ann.evaluate(X_test,y_test)"
      ],
      "metadata": {
        "colab": {
          "base_uri": "https://localhost:8080/"
        },
        "id": "MM8SSAs98-xo",
        "outputId": "624bf7c8-5902-4c41-e040-22ce6d5eea4e"
      },
      "execution_count": 29,
      "outputs": [
        {
          "output_type": "stream",
          "name": "stdout",
          "text": [
            "313/313 [==============================] - 11s 33ms/step - loss: 1.5353 - accuracy: 0.4500\n"
          ]
        },
        {
          "output_type": "execute_result",
          "data": {
            "text/plain": [
              "[1.5352510213851929, 0.44999998807907104]"
            ]
          },
          "metadata": {},
          "execution_count": 29
        }
      ]
    },
    {
      "cell_type": "code",
      "source": [
        "from sklearn.metrics import confusion_matrix, classification_report\n",
        "import numpy as np\n",
        "y_pred = ann.predict(X_test)\n",
        "y_pred_classes = [np.argmax(element) for element in y_pred]\n",
        "\n",
        "print(\"Classification Report: \\n\", classification_report(y_test, y_pred_classes))"
      ],
      "metadata": {
        "colab": {
          "base_uri": "https://localhost:8080/"
        },
        "id": "ME2b8XgkAdj9",
        "outputId": "d9a55453-3334-4892-d33a-4d910bc1e7f3"
      },
      "execution_count": 32,
      "outputs": [
        {
          "output_type": "stream",
          "name": "stdout",
          "text": [
            "313/313 [==============================] - 9s 28ms/step\n",
            "Classification Report: \n",
            "               precision    recall  f1-score   support\n",
            "\n",
            "           0       0.45      0.54      0.49      1000\n",
            "           1       0.71      0.37      0.48      1000\n",
            "           2       0.50      0.15      0.23      1000\n",
            "           3       0.42      0.23      0.29      1000\n",
            "           4       0.41      0.42      0.42      1000\n",
            "           5       0.39      0.40      0.40      1000\n",
            "           6       0.44      0.69      0.53      1000\n",
            "           7       0.56      0.51      0.53      1000\n",
            "           8       0.36      0.84      0.50      1000\n",
            "           9       0.63      0.36      0.46      1000\n",
            "\n",
            "    accuracy                           0.45     10000\n",
            "   macro avg       0.49      0.45      0.43     10000\n",
            "weighted avg       0.49      0.45      0.43     10000\n",
            "\n"
          ]
        }
      ]
    },
    {
      "cell_type": "code",
      "source": [
        "cnn = models.Sequential([\n",
        "        #cnn\n",
        "        layers.Conv2D(filters=32, kernel_size=(3,3), activation='relu', input_shape=(32,32,3)),\n",
        "        layers.MaxPooling2D((2,2)),\n",
        "        layers.Conv2D(filters=64, kernel_size=(3,3), activation='relu'),\n",
        "        layers.MaxPooling2D((2,2)),\n",
        "        #dense\n",
        "        layers.Flatten(),\n",
        "        layers.Dense(64, activation='relu'),\n",
        "        layers.Dense(10, activation='softmax')\n",
        "    ])"
      ],
      "metadata": {
        "id": "66MjzzZeBslc"
      },
      "execution_count": 35,
      "outputs": []
    },
    {
      "cell_type": "code",
      "source": [
        "cnn.compile(optimizer='adam',\n",
        "              loss='sparse_categorical_crossentropy',\n",
        "              metrics=['accuracy'])"
      ],
      "metadata": {
        "id": "ASEIPqGAB6n7"
      },
      "execution_count": 36,
      "outputs": []
    },
    {
      "cell_type": "code",
      "source": [
        "cnn.fit(X_train, y_train, epochs=10)"
      ],
      "metadata": {
        "colab": {
          "base_uri": "https://localhost:8080/"
        },
        "id": "GRxCqa4DEkhI",
        "outputId": "62872dff-329e-4b34-ad8f-2c32c38e34e0"
      },
      "execution_count": 37,
      "outputs": [
        {
          "output_type": "stream",
          "name": "stdout",
          "text": [
            "Epoch 1/10\n",
            "1563/1563 [==============================] - 72s 45ms/step - loss: 1.4531 - accuracy: 0.4793\n",
            "Epoch 2/10\n",
            "1563/1563 [==============================] - 67s 43ms/step - loss: 1.1070 - accuracy: 0.6117\n",
            "Epoch 3/10\n",
            "1563/1563 [==============================] - 67s 43ms/step - loss: 0.9834 - accuracy: 0.6559\n",
            "Epoch 4/10\n",
            "1563/1563 [==============================] - 65s 42ms/step - loss: 0.9026 - accuracy: 0.6843\n",
            "Epoch 5/10\n",
            "1563/1563 [==============================] - 66s 43ms/step - loss: 0.8321 - accuracy: 0.7118\n",
            "Epoch 6/10\n",
            "1563/1563 [==============================] - 65s 42ms/step - loss: 0.7718 - accuracy: 0.7343\n",
            "Epoch 7/10\n",
            "1563/1563 [==============================] - 67s 43ms/step - loss: 0.7252 - accuracy: 0.7487\n",
            "Epoch 8/10\n",
            "1563/1563 [==============================] - 64s 41ms/step - loss: 0.6785 - accuracy: 0.7657\n",
            "Epoch 9/10\n",
            "1563/1563 [==============================] - 66s 42ms/step - loss: 0.6326 - accuracy: 0.7807\n",
            "Epoch 10/10\n",
            "1563/1563 [==============================] - 64s 41ms/step - loss: 0.5939 - accuracy: 0.7924\n"
          ]
        },
        {
          "output_type": "execute_result",
          "data": {
            "text/plain": [
              "<keras.src.callbacks.History at 0x79c9ef9d7730>"
            ]
          },
          "metadata": {},
          "execution_count": 37
        }
      ]
    },
    {
      "cell_type": "code",
      "source": [
        "cnn.evaluate(X_test, y_test)"
      ],
      "metadata": {
        "colab": {
          "base_uri": "https://localhost:8080/"
        },
        "id": "izAbfd4MEnwC",
        "outputId": "66398896-ab21-441f-8ec1-9acd524580bd"
      },
      "execution_count": 38,
      "outputs": [
        {
          "output_type": "stream",
          "name": "stdout",
          "text": [
            "313/313 [==============================] - 8s 24ms/step - loss: 0.9556 - accuracy: 0.6966\n"
          ]
        },
        {
          "output_type": "execute_result",
          "data": {
            "text/plain": [
              "[0.955561637878418, 0.6966000199317932]"
            ]
          },
          "metadata": {},
          "execution_count": 38
        }
      ]
    },
    {
      "cell_type": "code",
      "source": [
        "y_test = y_test.reshape(-1,)\n",
        "plot_sample(X_test, y_test, 1)"
      ],
      "metadata": {
        "colab": {
          "base_uri": "https://localhost:8080/",
          "height": 237
        },
        "id": "gU0J6fKTHdO2",
        "outputId": "31ea5cf7-02ff-4221-e42e-e6cb2683e1e9"
      },
      "execution_count": 40,
      "outputs": [
        {
          "output_type": "display_data",
          "data": {
            "text/plain": [
              "<Figure size 1500x200 with 1 Axes>"
            ],
            "image/png": "[encoded data removed]"
          },
          "metadata": {}
        }
      ]
    },
    {
      "cell_type": "code",
      "source": [
        "y_pred = cnn.predict(X_test)\n",
        "y_pred[:5]"
      ],
      "metadata": {
        "colab": {
          "base_uri": "https://localhost:8080/"
        },
        "id": "ue0HAMnQIJGz",
        "outputId": "f450768a-cde3-4e09-cfa4-8e3b767cb9e7"
      },
      "execution_count": 43,
      "outputs": [
        {
          "output_type": "stream",
          "name": "stdout",
          "text": [
            "313/313 [==============================] - 9s 30ms/step\n"
          ]
        },
        {
          "output_type": "execute_result",
          "data": {
            "text/plain": [
              "array([[1.9285537e-04, 1.7054731e-06, 2.3048154e-04, 8.9539433e-01,\n",
              "        2.8034145e-05, 2.2348382e-02, 5.0958460e-03, 1.0309099e-03,\n",
              "        7.5655445e-02, 2.2090479e-05],\n",
              "       [7.9850266e-05, 5.0056189e-02, 2.6921350e-07, 1.2792043e-08,\n",
              "        6.7525113e-10, 3.4079614e-11, 3.4847119e-09, 2.6338262e-10,\n",
              "        9.4984120e-01, 2.2451797e-05],\n",
              "       [4.9672775e-02, 4.5810243e-01, 7.2534400e-04, 3.4216570e-04,\n",
              "        3.3198865e-04, 6.5088709e-05, 3.9380926e-04, 6.1264902e-05,\n",
              "        4.8094210e-01, 9.3629826e-03],\n",
              "       [9.8306870e-01, 1.1322769e-02, 9.5765555e-04, 1.2002308e-05,\n",
              "        3.8822947e-04, 1.2324652e-07, 7.4794007e-06, 1.3584918e-05,\n",
              "        4.1863876e-03, 4.2895103e-05],\n",
              "       [2.8006341e-06, 9.9681429e-06, 2.4570741e-03, 2.0467790e-02,\n",
              "        1.2132624e-01, 2.0762887e-03, 8.5364771e-01, 3.0760500e-06,\n",
              "        8.7819426e-06, 2.7982486e-07]], dtype=float32)"
            ]
          },
          "metadata": {},
          "execution_count": 43
        }
      ]
    },
    {
      "cell_type": "code",
      "source": [
        "y_classes = [np.argmax(element) for element in y_pred]\n",
        "y_classes[:5]"
      ],
      "metadata": {
        "colab": {
          "base_uri": "https://localhost:8080/"
        },
        "id": "AD54dAjnI5t0",
        "outputId": "64e96de6-4f12-475b-d012-441458f5e418"
      },
      "execution_count": 47,
      "outputs": [
        {
          "output_type": "execute_result",
          "data": {
            "text/plain": [
              "[3, 8, 8, 0, 6]"
            ]
          },
          "metadata": {},
          "execution_count": 47
        }
      ]
    },
    {
      "cell_type": "code",
      "source": [
        "y_test[:5]"
      ],
      "metadata": {
        "colab": {
          "base_uri": "https://localhost:8080/"
        },
        "id": "hslg-iLeJRO0",
        "outputId": "1b96a0f6-5a3f-431a-e169-48c646518fcf"
      },
      "execution_count": 48,
      "outputs": [
        {
          "output_type": "execute_result",
          "data": {
            "text/plain": [
              "array([3, 8, 8, 0, 6], dtype=uint8)"
            ]
          },
          "metadata": {},
          "execution_count": 48
        }
      ]
    },
    {
      "cell_type": "code",
      "source": [
        "plot_sample(X_test, y_test, 3)"
      ],
      "metadata": {
        "colab": {
          "base_uri": "https://localhost:8080/",
          "height": 237
        },
        "id": "YDD-8xMeJ5tQ",
        "outputId": "eb106cde-f2b9-414a-d90c-2c087dd53547"
      },
      "execution_count": 57,
      "outputs": [
        {
          "output_type": "display_data",
          "data": {
            "text/plain": [
              "<Figure size 1500x200 with 1 Axes>"
            ],
            "image/png": "[encoded data removed]"
          },
          "metadata": {}
        }
      ]
    },
    {
      "cell_type": "code",
      "source": [
        "classes[y_classes[3]]"
      ],
      "metadata": {
        "colab": {
          "base_uri": "https://localhost:8080/",
          "height": 36
        },
        "id": "rO206BAvKJVX",
        "outputId": "16e343a0-d68b-4453-e254-ae63d3f51e9c"
      },
      "execution_count": 58,
      "outputs": [
        {
          "output_type": "execute_result",
          "data": {
            "text/plain": [
              "'airplane'"
            ],
            "application/vnd.google.colaboratory.intrinsic+json": {
              "type": "string"
            }
          },
          "metadata": {},
          "execution_count": 58
        }
      ]
    },
    {
      "cell_type": "code",
      "source": [
        "print(\"Classification report: \\n\", classification_report(y_test, y_classes))"
      ],
      "metadata": {
        "colab": {
          "base_uri": "https://localhost:8080/"
        },
        "id": "LGgGnr0RKNJC",
        "outputId": "d6264a8f-d847-4890-8c11-6f0ba8ff9da4"
      },
      "execution_count": 60,
      "outputs": [
        {
          "output_type": "stream",
          "name": "stdout",
          "text": [
            "Classification report: \n",
            "               precision    recall  f1-score   support\n",
            "\n",
            "           0       0.77      0.69      0.73      1000\n",
            "           1       0.77      0.87      0.82      1000\n",
            "           2       0.58      0.57      0.58      1000\n",
            "           3       0.55      0.46      0.50      1000\n",
            "           4       0.64      0.65      0.64      1000\n",
            "           5       0.59      0.63      0.61      1000\n",
            "           6       0.67      0.85      0.75      1000\n",
            "           7       0.87      0.62      0.73      1000\n",
            "           8       0.80      0.83      0.82      1000\n",
            "           9       0.74      0.78      0.76      1000\n",
            "\n",
            "    accuracy                           0.70     10000\n",
            "   macro avg       0.70      0.70      0.69     10000\n",
            "weighted avg       0.70      0.70      0.69     10000\n",
            "\n"
          ]
        }
      ]
    },
    {
      "cell_type": "code",
      "source": [],
      "metadata": {
        "id": "0tSz-TMhKwSv"
      },
      "execution_count": null,
      "outputs": []
    }
  ]
}